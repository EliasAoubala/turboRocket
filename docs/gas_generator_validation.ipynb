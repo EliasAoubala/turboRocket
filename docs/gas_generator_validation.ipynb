{
 "cells": [
  {
   "cell_type": "markdown",
   "id": "77cfe7bf",
   "metadata": {},
   "source": [
    "# Gas Generator Class Validationa"
   ]
  },
  {
   "cell_type": "markdown",
   "id": "f777961a",
   "metadata": {},
   "source": [
    "> Date: 27/04/2025\n",
    "\n",
    "> Author: Elias Aoubala "
   ]
  },
  {
   "cell_type": "code",
   "execution_count": 1,
   "id": "5e483c3b",
   "metadata": {},
   "outputs": [
    {
     "ename": "ModuleNotFoundError",
     "evalue": "No module named 'handcalcs'",
     "output_type": "error",
     "traceback": [
      "\u001b[31m---------------------------------------------------------------------------\u001b[39m",
      "\u001b[31mModuleNotFoundError\u001b[39m                       Traceback (most recent call last)",
      "\u001b[36mCell\u001b[39m\u001b[36m \u001b[39m\u001b[32mIn[1]\u001b[39m\u001b[32m, line 1\u001b[39m\n\u001b[32m----> \u001b[39m\u001b[32m1\u001b[39m \u001b[38;5;28;01mimport\u001b[39;00m\u001b[38;5;250m \u001b[39m\u001b[34;01mhandcalcs\u001b[39;00m\u001b[34;01m.\u001b[39;00m\u001b[34;01mrender\u001b[39;00m\n",
      "\u001b[31mModuleNotFoundError\u001b[39m: No module named 'handcalcs'"
     ]
    }
   ],
   "source": [
    "import handcalcs.render"
   ]
  },
  {
   "cell_type": "markdown",
   "id": "df8a090d",
   "metadata": {},
   "source": [
    "## 1 - Background"
   ]
  },
  {
   "cell_type": "markdown",
   "id": "71d25e32",
   "metadata": {},
   "source": [
    "This document contains the authors validation of the gas generator class of the turborocket library"
   ]
  },
  {
   "cell_type": "markdown",
   "id": "8d2566cf",
   "metadata": {},
   "source": [
    "## 2 - Test Case #1"
   ]
  },
  {
   "cell_type": "markdown",
   "id": "04027399",
   "metadata": {},
   "source": [
    "This section contains an arbitrary test case setup by the author to demonstrate that the code and adjoint solves are functioning as expected."
   ]
  },
  {
   "cell_type": "code",
   "execution_count": null,
   "id": "a3a6cc9d",
   "metadata": {},
   "outputs": [],
   "source": [
    "pcc = 30e5\n",
    "mr_nom = 1\n",
    "oxidiser = \"N20\"\n",
    "fuel"
   ]
  }
 ],
 "metadata": {
  "kernelspec": {
   "display_name": "Python 3",
   "language": "python",
   "name": "python3"
  },
  "language_info": {
   "codemirror_mode": {
    "name": "ipython",
    "version": 3
   },
   "file_extension": ".py",
   "mimetype": "text/x-python",
   "name": "python",
   "nbconvert_exporter": "python",
   "pygments_lexer": "ipython3",
   "version": "3.11.3"
  }
 },
 "nbformat": 4,
 "nbformat_minor": 5
}
